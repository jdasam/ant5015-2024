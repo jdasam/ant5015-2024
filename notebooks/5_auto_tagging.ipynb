{
  "cells": [
    {
      "cell_type": "markdown",
      "metadata": {
        "id": "view-in-github",
        "colab_type": "text"
      },
      "source": [
        "<a href=\"https://colab.research.google.com/github/jdasam/ant5015/blob/2024F/notebooks/5_auto_tagging.ipynb\" target=\"_parent\"><img src=\"https://colab.research.google.com/assets/colab-badge.svg\" alt=\"Open In Colab\"/></a>"
      ]
    },
    {
      "cell_type": "markdown",
      "id": "60457791",
      "metadata": {
        "id": "60457791"
      },
      "source": [
        "# Autotagging"
      ]
    },
    {
      "cell_type": "code",
      "execution_count": null,
      "id": "d5e73fb9",
      "metadata": {
        "id": "d5e73fb9"
      },
      "outputs": [],
      "source": [
        "import torch\n",
        "import torchaudio\n",
        "import IPython.display as ipd\n",
        "from pathlib import Path\n",
        "import pandas as pd\n",
        "import matplotlib.pyplot as plt"
      ]
    },
    {
      "cell_type": "markdown",
      "id": "97164c88",
      "metadata": {
        "id": "97164c88"
      },
      "source": [
        "- Download Small MTAT if you need\n"
      ]
    },
    {
      "cell_type": "code",
      "execution_count": null,
      "id": "2ea84fda",
      "metadata": {
        "colab": {
          "base_uri": "https://localhost:8080/"
        },
        "id": "2ea84fda",
        "outputId": "802ac483-e786-4407-d949-80377d35e0a7"
      },
      "outputs": [
        {
          "output_type": "stream",
          "name": "stdout",
          "text": [
            "Requirement already satisfied: gdown in /usr/local/lib/python3.10/dist-packages (5.2.0)\n",
            "Requirement already satisfied: beautifulsoup4 in /usr/local/lib/python3.10/dist-packages (from gdown) (4.12.3)\n",
            "Requirement already satisfied: filelock in /usr/local/lib/python3.10/dist-packages (from gdown) (3.16.1)\n",
            "Requirement already satisfied: requests[socks] in /usr/local/lib/python3.10/dist-packages (from gdown) (2.32.3)\n",
            "Requirement already satisfied: tqdm in /usr/local/lib/python3.10/dist-packages (from gdown) (4.66.5)\n",
            "Requirement already satisfied: soupsieve>1.2 in /usr/local/lib/python3.10/dist-packages (from beautifulsoup4->gdown) (2.6)\n",
            "Requirement already satisfied: charset-normalizer<4,>=2 in /usr/local/lib/python3.10/dist-packages (from requests[socks]->gdown) (3.4.0)\n",
            "Requirement already satisfied: idna<4,>=2.5 in /usr/local/lib/python3.10/dist-packages (from requests[socks]->gdown) (3.10)\n",
            "Requirement already satisfied: urllib3<3,>=1.21.1 in /usr/local/lib/python3.10/dist-packages (from requests[socks]->gdown) (2.2.3)\n",
            "Requirement already satisfied: certifi>=2017.4.17 in /usr/local/lib/python3.10/dist-packages (from requests[socks]->gdown) (2024.8.30)\n",
            "Requirement already satisfied: PySocks!=1.5.7,>=1.5.6 in /usr/local/lib/python3.10/dist-packages (from requests[socks]->gdown) (1.7.1)\n",
            "Downloading...\n",
            "From (original): https://drive.google.com/uc?id=15e9E3oZdudErkPKwb0rCAiZXkPxdZkV6\n",
            "From (redirected): https://drive.google.com/uc?id=15e9E3oZdudErkPKwb0rCAiZXkPxdZkV6&confirm=t&uuid=d0296d66-96e8-4c01-9b05-5398300bb416\n",
            "To: /content/mtat_8000.zip\n",
            "100% 921M/921M [00:26<00:00, 34.2MB/s]\n"
          ]
        }
      ],
      "source": [
        "!pip install --upgrade gdown\n",
        "!gdown 15e9E3oZdudErkPKwb0rCAiZXkPxdZkV6\n",
        "# !wget https://sogang365-my.sharepoint.com/:u:/g/personal/dasaem_jeong_o365_sogang_ac_kr/EdkHWV-qvxBEi-d0Ua73VG4BEp7EZO7HMvrXsWqeJvMJzg?e=GbYylV&download=1\n",
        "\n",
        "!unzip -q mtat_8000.zip"
      ]
    },
    {
      "cell_type": "code",
      "execution_count": null,
      "id": "7de7e920",
      "metadata": {
        "colab": {
          "base_uri": "https://localhost:8080/"
        },
        "id": "7de7e920",
        "outputId": "2f111b02-7c59-4d05-a126-0d1e93da78ea"
      },
      "outputs": [
        {
          "output_type": "execute_result",
          "data": {
            "text/plain": [
              "(tensor([ 0.0000e+00,  0.0000e+00,  0.0000e+00,  ..., -8.8974e-08,\n",
              "         -5.8156e-08, -5.6856e-08]),\n",
              " tensor([0., 0., 0., 0., 0., 0., 0., 1., 0., 0., 1., 0., 0., 0., 0., 0., 0., 0.,\n",
              "         0., 0., 0., 0., 0., 0., 0., 0., 0., 0., 0., 0., 0., 0., 0., 0., 0., 0.,\n",
              "         0., 0., 0., 0., 0., 0., 0., 0., 0., 0., 0., 0., 1., 0.]))"
            ]
          },
          "metadata": {},
          "execution_count": 45
        }
      ],
      "source": [
        "class MTATDataset:\n",
        "  def __init__(self, dir_path, split='train', num_max_data=6000, sr=16000):\n",
        "    self.dir = Path(dir_path)\n",
        "    self.labels = pd.read_csv(self.dir / \"meta.csv\", index_col=[0])\n",
        "    self.sr = sr\n",
        "\n",
        "    if split==\"train\":\n",
        "      sub_dir_ids = ['0', '1', '2', '3', '4', '5', '6', '7', '8', '9', 'a', 'b', 'c']\n",
        "    elif split=='valid':\n",
        "      sub_dir_ids = ['d']\n",
        "    elif split=='test': #test\n",
        "      sub_dir_ids = ['e', 'f', 'g']\n",
        "    else:\n",
        "      raise NotImplementedError\n",
        "\n",
        "    is_in_set = [True if x[0] in sub_dir_ids else False for x in self.labels['mp3_path'].values.astype('str')]\n",
        "    self.labels = self.labels.iloc[is_in_set] # filter label by is_in_set\n",
        "    self.labels = self.labels[:num_max_data]\n",
        "    self.vocab = self.labels.columns.values[1:-1]\n",
        "    self.label_tensor = self.convert_label_to_tensor()\n",
        "\n",
        "  def convert_label_to_tensor(self):\n",
        "    return torch.tensor(self.labels.values[:, 1:-1].astype('bool'), dtype=torch.float)\n",
        "\n",
        "  def __len__(self):\n",
        "    return len(self.labels)\n",
        "\n",
        "  def __getitem__(self, idx):\n",
        "    info = self.labels.iloc[idx]\n",
        "    mp3_path = self.dir / info['mp3_path']\n",
        "\n",
        "    audio, sr = torchaudio.load(mp3_path)\n",
        "    assert sr == self.sr\n",
        "    label = self.label_tensor[idx]\n",
        "    return audio.mean(0), label\n",
        "\n",
        "data_dir = Path('MTAT_SMALL')\n",
        "dataset= MTATDataset(data_dir)\n",
        "dataset[0]"
      ]
    },
    {
      "cell_type": "code",
      "source": [
        "dataset[0][0].to(torch.float16)"
      ],
      "metadata": {
        "colab": {
          "base_uri": "https://localhost:8080/"
        },
        "id": "3I8K51nllfje",
        "outputId": "c92827aa-be4a-4ece-c010-fc875718c81f"
      },
      "id": "3I8K51nllfje",
      "execution_count": null,
      "outputs": [
        {
          "output_type": "execute_result",
          "data": {
            "text/plain": [
              "tensor([ 0.0000e+00,  0.0000e+00,  0.0000e+00,  ..., -5.9605e-08,\n",
              "        -5.9605e-08, -5.9605e-08], dtype=torch.float16)"
            ]
          },
          "metadata": {},
          "execution_count": 48
        }
      ]
    },
    {
      "cell_type": "code",
      "execution_count": null,
      "id": "5JcdXymcZCg_",
      "metadata": {
        "colab": {
          "base_uri": "https://localhost:8080/",
          "height": 112
        },
        "id": "5JcdXymcZCg_",
        "outputId": "1b425f15-ae75-4709-fae0-c35e5d38b6c4"
      },
      "outputs": [
        {
          "output_type": "display_data",
          "data": {
            "text/plain": [
              "<IPython.lib.display.Audio object>"
            ],
            "text/html": [
              "\n",
              "                <audio  controls=\"controls\" >\n",
              "                    <source src=\"data:audio/mpeg;base64,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\" type=\"audio/mpeg\" />\n",
              "                    Your browser does not support the audio element.\n",
              "                </audio>\n",
              "              "
            ]
          },
          "metadata": {}
        },
        {
          "output_type": "stream",
          "name": "stdout",
          "text": [
            "['classical' 'quiet' 'ambient' 'string' 'harp' 'slow']\n"
          ]
        },
        {
          "output_type": "execute_result",
          "data": {
            "text/plain": [
              "(None, None)"
            ]
          },
          "metadata": {},
          "execution_count": 38
        }
      ],
      "source": [
        "csv_fn = 'MTAT_SMALL/meta.csv'\n",
        "meta = pd.read_csv(csv_fn, index_col=[0])\n",
        "vocab = meta.columns.values[1:-1]\n",
        "\n",
        "idx = 10\n",
        "\n",
        "mp3_path = meta['mp3_path'].values[idx]\n",
        "mp3_path = meta.iloc[idx]['mp3_path']\n",
        "label = meta.iloc[idx].values[1:-1]\n",
        "label_ids = np.where(label)[0]\n",
        "\n",
        "mp3_path, label\n",
        "\n",
        "ipd.display(ipd.Audio('MTAT_SMALL/'+mp3_path)), print(vocab[label_ids])"
      ]
    },
    {
      "cell_type": "code",
      "source": [
        "# check audio channel\n",
        "y, sr = torchaudio.load('MTAT_SMALL/'+mp3_path)\n",
        "y.shape"
      ],
      "metadata": {
        "colab": {
          "base_uri": "https://localhost:8080/"
        },
        "id": "gKc6g3UdmJCC",
        "outputId": "a2b66b03-d401-47b0-b5e4-04fdb3d9969c"
      },
      "id": "gKc6g3UdmJCC",
      "execution_count": null,
      "outputs": [
        {
          "output_type": "execute_result",
          "data": {
            "text/plain": [
              "torch.Size([1, 465984])"
            ]
          },
          "metadata": {},
          "execution_count": 49
        }
      ]
    },
    {
      "cell_type": "code",
      "source": [
        "import numpy as np\n",
        "label_ids = np.where(label)[0]\n",
        "print(label, label_ids)\n",
        "vocab = meta.columns.values[1:-1]\n",
        "vocab[label_ids]"
      ],
      "metadata": {
        "colab": {
          "base_uri": "https://localhost:8080/"
        },
        "id": "0gRjqREshmSt",
        "outputId": "8c38b405-14c2-43c0-a7c3-0a3779bd5757"
      },
      "id": "0gRjqREshmSt",
      "execution_count": null,
      "outputs": [
        {
          "output_type": "execute_result",
          "data": {
            "text/plain": [
              "array(['guitar', 'male', 'vocal'], dtype=object)"
            ]
          },
          "metadata": {},
          "execution_count": 35
        }
      ]
    },
    {
      "cell_type": "code",
      "source": [
        "from tqdm.auto import tqdm\n",
        "\n",
        "for i in tqdm(range(100)):\n",
        "  audio, label = dataset[i]\n"
      ],
      "metadata": {
        "colab": {
          "base_uri": "https://localhost:8080/",
          "height": 49,
          "referenced_widgets": [
            "7fc8cc2133c345bdbb79bc83b579d8ad",
            "7e3fc66af7ed40d983bc677bc651fdf7",
            "95d72e8db25e40a09d9cfbb3fea372f4",
            "02e6e217d63541f8ac40a3297df8b833",
            "170053e7265a446eaaa9eba108aec02c",
            "e4588af5be2b4e7f9db415b1a2f543cc",
            "296cca7db7b9485996b15e4c7fc865b4",
            "f0c11b17c23948158fead60753ff897f",
            "af5d40c21f5d4efba4898560e70b53e3",
            "1a8c245573834b53a77bec89c9080b7f",
            "e762b1f5baaf4b6e88936c5a224719a0"
          ]
        },
        "id": "AvQWKQRxkasI",
        "outputId": "983fe77d-fd10-4671-f9cc-01f71af9f92e"
      },
      "id": "AvQWKQRxkasI",
      "execution_count": null,
      "outputs": [
        {
          "output_type": "display_data",
          "data": {
            "text/plain": [
              "  0%|          | 0/100 [00:00<?, ?it/s]"
            ],
            "application/vnd.jupyter.widget-view+json": {
              "version_major": 2,
              "version_minor": 0,
              "model_id": "7fc8cc2133c345bdbb79bc83b579d8ad"
            }
          },
          "metadata": {}
        }
      ]
    },
    {
      "cell_type": "markdown",
      "id": "c4074a82",
      "metadata": {
        "id": "c4074a82"
      },
      "source": [
        "## Make Dataset"
      ]
    },
    {
      "cell_type": "code",
      "source": [
        "class OnMemoryDataset(MTATDataset):\n",
        "  def __init__(self, dir_path, split='train', num_max_data=6000, sr=16000):\n",
        "    super().__init__(dir_path, split, num_max_data, sr)\n",
        "    self.loaded_audio = self.load_audio()\n",
        "\n",
        "  def load_audio(self):\n",
        "    audios = []\n",
        "    for idx in tqdm(range(len(self))):\n",
        "      info = self.labels.iloc[idx]\n",
        "      mp3_path = self.dir / info['mp3_path']\n",
        "      audio, sr = torchaudio.load(mp3_path)\n",
        "      assert sr == self.sr\n",
        "      audios.append(audio.to(torch.float16))\n",
        "    return audios\n",
        "\n",
        "  def __getitem__(self, idx):\n",
        "    label = self.label_tensor[idx]\n",
        "    audio = self.loaded_audio[idx].to(torch.float32)\n",
        "    return audio.mean(0), label\n",
        "\n",
        "\n",
        "memory_dataset = OnMemoryDataset('MTAT_SMALL/')\n",
        "memory_dataset.label_tensor"
      ],
      "metadata": {
        "colab": {
          "base_uri": "https://localhost:8080/",
          "height": 175,
          "referenced_widgets": [
            "66db88194b4846b78a53484d1adac785",
            "21c50afb922f4b5b87c767cbe3ca7b30",
            "76d03a96b49f4719a5a3b76e400dd2c2",
            "95cdb6225f0149b4ba39dfde278df34a",
            "abaa50d6c90542c09654ff3a09be7a9c",
            "2a241a22c2f0413f84ba327f2a00595d",
            "fa368614e5be431a864449d1e3092280",
            "db76e76fe92c4fffbf39ca02ca4a09a7",
            "36adf50937d941e28373c3b7a7676bfc",
            "ad39954100364025b0f9cb016dc9779e",
            "f8d3fe6d30b544ce91675392751c3833"
          ]
        },
        "id": "ZlUQ5ONlktW_",
        "outputId": "09dd1f8c-e408-4f1f-a434-b907785581d9"
      },
      "id": "ZlUQ5ONlktW_",
      "execution_count": null,
      "outputs": [
        {
          "output_type": "display_data",
          "data": {
            "text/plain": [
              "  0%|          | 0/5000 [00:00<?, ?it/s]"
            ],
            "application/vnd.jupyter.widget-view+json": {
              "version_major": 2,
              "version_minor": 0,
              "model_id": "66db88194b4846b78a53484d1adac785"
            }
          },
          "metadata": {}
        },
        {
          "output_type": "execute_result",
          "data": {
            "text/plain": [
              "tensor([[0., 0., 0.,  ..., 0., 1., 0.],\n",
              "        [0., 0., 0.,  ..., 0., 0., 0.],\n",
              "        [0., 0., 0.,  ..., 0., 0., 0.],\n",
              "        ...,\n",
              "        [0., 1., 0.,  ..., 0., 0., 0.],\n",
              "        [0., 0., 0.,  ..., 0., 0., 0.],\n",
              "        [0., 0., 0.,  ..., 0., 0., 0.]])"
            ]
          },
          "metadata": {},
          "execution_count": 57
        }
      ]
    },
    {
      "cell_type": "code",
      "source": [
        "for i in tqdm(range(100)):\n",
        "  audio, label = memory_dataset[i]\n",
        "audio, label"
      ],
      "metadata": {
        "colab": {
          "base_uri": "https://localhost:8080/",
          "height": 139,
          "referenced_widgets": [
            "472cb2e0df9442569a939577043facf1",
            "ded4a088e5d04dde95974fe9d036bbf5",
            "2db63346236a45bdb5c21c9b59773e3f",
            "e8e9b99f9f4a4961bd808f3416902da5",
            "128e0aba544349ff914262b812412635",
            "2e19acad141c4994b8666b8fd55b0747",
            "57add0b42d974fae956512ecbce746dc",
            "aae942777ce547bdbf5e400447fd365f",
            "b1cb4701632e42899eb381fd737758da",
            "1dd07b47defe479d933537dafb1d1c96",
            "94682d3c6d6547b28b7fdea52228fa88"
          ]
        },
        "id": "lDI3cRgZmhXc",
        "outputId": "28dfcbcd-8f68-41eb-ef38-5ec1899ee441"
      },
      "id": "lDI3cRgZmhXc",
      "execution_count": null,
      "outputs": [
        {
          "output_type": "display_data",
          "data": {
            "text/plain": [
              "  0%|          | 0/100 [00:00<?, ?it/s]"
            ],
            "application/vnd.jupyter.widget-view+json": {
              "version_major": 2,
              "version_minor": 0,
              "model_id": "472cb2e0df9442569a939577043facf1"
            }
          },
          "metadata": {}
        },
        {
          "output_type": "execute_result",
          "data": {
            "text/plain": [
              "(tensor([0.0000e+00, 0.0000e+00, 0.0000e+00,  ..., 0.0000e+00, 1.1921e-07,\n",
              "         2.3842e-07]),\n",
              " tensor([0., 0., 0., 0., 0., 0., 1., 0., 0., 0., 0., 0., 0., 0., 0., 0., 0., 0.,\n",
              "         0., 1., 0., 0., 0., 0., 0., 0., 0., 0., 0., 0., 0., 0., 0., 0., 0., 0.,\n",
              "         0., 0., 0., 0., 0., 0., 0., 1., 0., 0., 0., 0., 0., 0.]))"
            ]
          },
          "metadata": {},
          "execution_count": 56
        }
      ]
    },
    {
      "cell_type": "code",
      "source": [
        "train_loader = torch.utils.data.DataLoader(memory_dataset, batch_size=32, shuffle=True)\n",
        "\n",
        "# for batch in train_loader:\n",
        "#   print(batch)\n",
        "#   break\n",
        "batch = next(iter(train_loader))\n",
        "audios, labels = batch\n",
        "print(audios.shape, labels.shape)"
      ],
      "metadata": {
        "colab": {
          "base_uri": "https://localhost:8080/"
        },
        "id": "s1t9cKxKsiU3",
        "outputId": "0988d58e-198a-41c6-ee68-4807153859b9"
      },
      "id": "s1t9cKxKsiU3",
      "execution_count": null,
      "outputs": [
        {
          "output_type": "stream",
          "name": "stdout",
          "text": [
            "torch.Size([32, 465984]) torch.Size([32, 50])\n"
          ]
        }
      ]
    },
    {
      "cell_type": "markdown",
      "id": "56f48eb7",
      "metadata": {
        "id": "56f48eb7"
      },
      "source": [
        "## Make Model"
      ]
    },
    {
      "cell_type": "code",
      "source": [
        "import torch.nn as nn\n",
        "\n",
        "dummy = torch.arange(32).reshape(1, 1, 4, 8).to(torch.float32) # N x C x H x W\n",
        "dummy\n",
        "# RNN: Time x N x C\n",
        "# Transformer: N x Time x C\n",
        "\n",
        "cnn_layer = nn.Conv2d(in_channels=1, out_channels=3, kernel_size=3, stride=1, padding=0, dilation=1)\n",
        "out = cnn_layer(dummy)\n",
        "print(out.shape)"
      ],
      "metadata": {
        "colab": {
          "base_uri": "https://localhost:8080/"
        },
        "id": "phcoeMTVq71q",
        "outputId": "b5d26753-298d-4193-b38e-4d42caab17c0"
      },
      "id": "phcoeMTVq71q",
      "execution_count": null,
      "outputs": [
        {
          "output_type": "stream",
          "name": "stdout",
          "text": [
            "torch.Size([1, 3, 2, 6])\n"
          ]
        }
      ]
    },
    {
      "cell_type": "code",
      "execution_count": null,
      "id": "KIDx4jyOep75",
      "metadata": {
        "colab": {
          "base_uri": "https://localhost:8080/"
        },
        "id": "KIDx4jyOep75",
        "outputId": "d7881795-bd1f-4c00-e675-efa5dc2342eb"
      },
      "outputs": [
        {
          "output_type": "execute_result",
          "data": {
            "text/plain": [
              "tensor([[0.4939, 0.4958, 0.4881,  ..., 0.4965, 0.4971, 0.4964],\n",
              "        [0.4926, 0.4959, 0.4872,  ..., 0.4968, 0.4969, 0.4963],\n",
              "        [0.4944, 0.4959, 0.4876,  ..., 0.4959, 0.4975, 0.4965],\n",
              "        ...,\n",
              "        [0.4931, 0.4959, 0.4869,  ..., 0.4969, 0.4971, 0.4966],\n",
              "        [0.4924, 0.4963, 0.4869,  ..., 0.4968, 0.4973, 0.4960],\n",
              "        [0.4930, 0.4960, 0.4875,  ..., 0.4963, 0.4970, 0.4967]],\n",
              "       grad_fn=<SigmoidBackward0>)"
            ]
          },
          "metadata": {},
          "execution_count": 91
        }
      ],
      "source": [
        "import torch.nn as nn\n",
        "\n",
        "class MelDbConverter(torch.nn.Module):\n",
        "  def __init__(self):\n",
        "    super().__init__()\n",
        "    self.mel_conv = torchaudio.transforms.MelSpectrogram(n_fft=1024,\n",
        "                                                     hop_length=512,\n",
        "                                                     f_min=20,\n",
        "                                                     f_max=4000,\n",
        "                                                     n_mels=80,\n",
        "                                                     sample_rate=16000)\n",
        "    self.db_conv = torchaudio.transforms.AmplitudeToDB()\n",
        "\n",
        "  def forward(self, x):\n",
        "    return self.db_conv(self.mel_conv(x)) / 100\n",
        "\n",
        "\n",
        "\n",
        "class CNNModel(nn.Module):\n",
        "  def __init__(self, dim=8, num_out=10):\n",
        "    super().__init__() # nn.Module init\n",
        "    self.mel_conv = MelDbConverter()\n",
        "\n",
        "    self.conv = nn.Sequential(\n",
        "        nn.Conv2d(1, 16, 3),\n",
        "        nn.ReLU(),\n",
        "        nn.MaxPool2d(3),\n",
        "        nn.Conv2d(16, 32, 3),\n",
        "        nn.MaxPool2d(3),\n",
        "        nn.ReLU(),\n",
        "        nn.Conv2d(32, 64, 3),\n",
        "        nn.MaxPool2d((1,3)),\n",
        "        nn.ReLU(),\n",
        "        nn.Conv2d(64, 64, 3),\n",
        "        nn.MaxPool2d((1,3)),\n",
        "        nn.ReLU(),\n",
        "        )\n",
        "    # self.conv2 = nn.Conv2d(16, 16, 3)\n",
        "    self.proj = nn.Linear(256, num_out)\n",
        "\n",
        "  def forward(self, x):\n",
        "    # x: N x Num_Sample\n",
        "    spec = self.mel_conv(x)\n",
        "    # spec: N x MelBin x MelTimeFrame\n",
        "    spec = spec.unsqueeze(1) # add empty dimension in 1st dim\n",
        "    # spec: N x 1(Channel) x MelBin x MelTimeFrame\n",
        "    out = self.conv(spec)\n",
        "    # out = self.conv2(out)\n",
        "    # out: N x C x Freq x Time\n",
        "    # Global pooling in Time axis\n",
        "    out = torch.max(out, dim=-1)[0]\n",
        "    out = out.flatten(1,)\n",
        "    out = self.proj(out)\n",
        "\n",
        "    return out\n",
        "\n",
        "model = CNNModel(num_out=len(dataset.vocab))\n",
        "\n",
        "out = model(audios.cpu())\n",
        "prob = out.sigmoid()\n",
        "prob"
      ]
    },
    {
      "cell_type": "code",
      "execution_count": null,
      "id": "bCv2jv6QfNIZ",
      "metadata": {
        "id": "bCv2jv6QfNIZ"
      },
      "outputs": [],
      "source": [
        "batch = next(iter(train_loader))"
      ]
    },
    {
      "cell_type": "markdown",
      "id": "9ee479ca",
      "metadata": {
        "id": "9ee479ca"
      },
      "source": [
        "## Train the model"
      ]
    },
    {
      "cell_type": "code",
      "source": [
        "def get_bce_loss(pred, target):\n",
        "  return -(target * torch.log(pred+1e-8) + (1-target)*torch.log(1-pred+1e-8)).mean()\n",
        "get_bce_loss(prob, labels)"
      ],
      "metadata": {
        "colab": {
          "base_uri": "https://localhost:8080/"
        },
        "id": "gi3ysP8Dw2u8",
        "outputId": "4ad0255a-e9a0-4f3d-d226-ec9e956fead4"
      },
      "id": "gi3ysP8Dw2u8",
      "execution_count": null,
      "outputs": [
        {
          "output_type": "execute_result",
          "data": {
            "text/plain": [
              "tensor(0.6910, grad_fn=<NegBackward0>)"
            ]
          },
          "metadata": {},
          "execution_count": 94
        }
      ]
    },
    {
      "cell_type": "code",
      "source": [
        "train_loader = torch.utils.data.DataLoader(memory_dataset, batch_size=32, shuffle=True)\n",
        "model = CNNModel(num_out=len(dataset.vocab))\n",
        "optimizer = torch.optim.Adam(model.parameters(), lr=1e-3)\n",
        "\n",
        "num_epoch = 5\n",
        "dev = 'cuda'\n",
        "loss_record = []\n",
        "model = model.to(dev)\n",
        "for epoch in tqdm(range(num_epoch)):\n",
        "  for batch in train_loader:\n",
        "    audios, labels = batch\n",
        "    audios = audios.to(dev)\n",
        "    labels = labels.to(dev)\n",
        "    logit = model(audios)\n",
        "    prob = logit.sigmoid()\n",
        "    loss = get_bce_loss(prob, labels)\n",
        "    loss.backward()\n",
        "    optimizer.step()\n",
        "    optimizer.zero_grad()\n",
        "    loss_record.append(loss.item())\n",
        "  print(loss.item())\n"
      ],
      "metadata": {
        "colab": {
          "base_uri": "https://localhost:8080/",
          "height": 434,
          "referenced_widgets": [
            "9f95a32508af4251aa7d787fab5e064c",
            "3328c657ec964969b124c8b8565d67f2",
            "e31d60d39ecf40f8badf7c5833dcdd43",
            "0dd7aa1b7d14485b80ca240dc18e2aa6",
            "b3d4b937532f445780e242a36814c9d1",
            "9ac72120065b46369888df794aa54278",
            "e765af2688954d41970e0139c5ad4efa",
            "c666426e96ef4071b9ecb941cb8b3bcd",
            "912aa700e26844faacd30ffee9845030",
            "f2cc60b5939b4823972a003f9eade07e",
            "91bae638035d41e180d92901c39729a8"
          ]
        },
        "id": "LxO95JyBwrHb",
        "outputId": "6bd5b417-4d2f-43cc-896f-4315c0dd2f9d"
      },
      "id": "LxO95JyBwrHb",
      "execution_count": null,
      "outputs": [
        {
          "output_type": "display_data",
          "data": {
            "text/plain": [
              "  0%|          | 0/5 [00:00<?, ?it/s]"
            ],
            "application/vnd.jupyter.widget-view+json": {
              "version_major": 2,
              "version_minor": 0,
              "model_id": "9f95a32508af4251aa7d787fab5e064c"
            }
          },
          "metadata": {}
        },
        {
          "output_type": "stream",
          "name": "stdout",
          "text": [
            "0.24557463824748993\n",
            "0.2205829918384552\n"
          ]
        },
        {
          "output_type": "error",
          "ename": "KeyboardInterrupt",
          "evalue": "",
          "traceback": [
            "\u001b[0;31m---------------------------------------------------------------------------\u001b[0m",
            "\u001b[0;31mKeyboardInterrupt\u001b[0m                         Traceback (most recent call last)",
            "\u001b[0;32m<ipython-input-96-df87b88e5e5b>\u001b[0m in \u001b[0;36m<cell line: 9>\u001b[0;34m()\u001b[0m\n\u001b[1;32m      8\u001b[0m \u001b[0mmodel\u001b[0m \u001b[0;34m=\u001b[0m \u001b[0mmodel\u001b[0m\u001b[0;34m.\u001b[0m\u001b[0mto\u001b[0m\u001b[0;34m(\u001b[0m\u001b[0mdev\u001b[0m\u001b[0;34m)\u001b[0m\u001b[0;34m\u001b[0m\u001b[0;34m\u001b[0m\u001b[0m\n\u001b[1;32m      9\u001b[0m \u001b[0;32mfor\u001b[0m \u001b[0mepoch\u001b[0m \u001b[0;32min\u001b[0m \u001b[0mtqdm\u001b[0m\u001b[0;34m(\u001b[0m\u001b[0mrange\u001b[0m\u001b[0;34m(\u001b[0m\u001b[0mnum_epoch\u001b[0m\u001b[0;34m)\u001b[0m\u001b[0;34m)\u001b[0m\u001b[0;34m:\u001b[0m\u001b[0;34m\u001b[0m\u001b[0;34m\u001b[0m\u001b[0m\n\u001b[0;32m---> 10\u001b[0;31m   \u001b[0;32mfor\u001b[0m \u001b[0mbatch\u001b[0m \u001b[0;32min\u001b[0m \u001b[0mtrain_loader\u001b[0m\u001b[0;34m:\u001b[0m\u001b[0;34m\u001b[0m\u001b[0;34m\u001b[0m\u001b[0m\n\u001b[0m\u001b[1;32m     11\u001b[0m     \u001b[0maudios\u001b[0m\u001b[0;34m,\u001b[0m \u001b[0mlabels\u001b[0m \u001b[0;34m=\u001b[0m \u001b[0mbatch\u001b[0m\u001b[0;34m\u001b[0m\u001b[0;34m\u001b[0m\u001b[0m\n\u001b[1;32m     12\u001b[0m     \u001b[0maudios\u001b[0m \u001b[0;34m=\u001b[0m \u001b[0maudios\u001b[0m\u001b[0;34m.\u001b[0m\u001b[0mto\u001b[0m\u001b[0;34m(\u001b[0m\u001b[0mdev\u001b[0m\u001b[0;34m)\u001b[0m\u001b[0;34m\u001b[0m\u001b[0;34m\u001b[0m\u001b[0m\n",
            "\u001b[0;32m/usr/local/lib/python3.10/dist-packages/torch/utils/data/dataloader.py\u001b[0m in \u001b[0;36m__next__\u001b[0;34m(self)\u001b[0m\n\u001b[1;32m    699\u001b[0m                 \u001b[0;31m# TODO(https://github.com/pytorch/pytorch/issues/76750)\u001b[0m\u001b[0;34m\u001b[0m\u001b[0;34m\u001b[0m\u001b[0m\n\u001b[1;32m    700\u001b[0m                 \u001b[0mself\u001b[0m\u001b[0;34m.\u001b[0m\u001b[0m_reset\u001b[0m\u001b[0;34m(\u001b[0m\u001b[0;34m)\u001b[0m  \u001b[0;31m# type: ignore[call-arg]\u001b[0m\u001b[0;34m\u001b[0m\u001b[0;34m\u001b[0m\u001b[0m\n\u001b[0;32m--> 701\u001b[0;31m             \u001b[0mdata\u001b[0m \u001b[0;34m=\u001b[0m \u001b[0mself\u001b[0m\u001b[0;34m.\u001b[0m\u001b[0m_next_data\u001b[0m\u001b[0;34m(\u001b[0m\u001b[0;34m)\u001b[0m\u001b[0;34m\u001b[0m\u001b[0;34m\u001b[0m\u001b[0m\n\u001b[0m\u001b[1;32m    702\u001b[0m             \u001b[0mself\u001b[0m\u001b[0;34m.\u001b[0m\u001b[0m_num_yielded\u001b[0m \u001b[0;34m+=\u001b[0m \u001b[0;36m1\u001b[0m\u001b[0;34m\u001b[0m\u001b[0;34m\u001b[0m\u001b[0m\n\u001b[1;32m    703\u001b[0m             if (\n",
            "\u001b[0;32m/usr/local/lib/python3.10/dist-packages/torch/utils/data/dataloader.py\u001b[0m in \u001b[0;36m_next_data\u001b[0;34m(self)\u001b[0m\n\u001b[1;32m    755\u001b[0m     \u001b[0;32mdef\u001b[0m \u001b[0m_next_data\u001b[0m\u001b[0;34m(\u001b[0m\u001b[0mself\u001b[0m\u001b[0;34m)\u001b[0m\u001b[0;34m:\u001b[0m\u001b[0;34m\u001b[0m\u001b[0;34m\u001b[0m\u001b[0m\n\u001b[1;32m    756\u001b[0m         \u001b[0mindex\u001b[0m \u001b[0;34m=\u001b[0m \u001b[0mself\u001b[0m\u001b[0;34m.\u001b[0m\u001b[0m_next_index\u001b[0m\u001b[0;34m(\u001b[0m\u001b[0;34m)\u001b[0m  \u001b[0;31m# may raise StopIteration\u001b[0m\u001b[0;34m\u001b[0m\u001b[0;34m\u001b[0m\u001b[0m\n\u001b[0;32m--> 757\u001b[0;31m         \u001b[0mdata\u001b[0m \u001b[0;34m=\u001b[0m \u001b[0mself\u001b[0m\u001b[0;34m.\u001b[0m\u001b[0m_dataset_fetcher\u001b[0m\u001b[0;34m.\u001b[0m\u001b[0mfetch\u001b[0m\u001b[0;34m(\u001b[0m\u001b[0mindex\u001b[0m\u001b[0;34m)\u001b[0m  \u001b[0;31m# may raise StopIteration\u001b[0m\u001b[0;34m\u001b[0m\u001b[0;34m\u001b[0m\u001b[0m\n\u001b[0m\u001b[1;32m    758\u001b[0m         \u001b[0;32mif\u001b[0m \u001b[0mself\u001b[0m\u001b[0;34m.\u001b[0m\u001b[0m_pin_memory\u001b[0m\u001b[0;34m:\u001b[0m\u001b[0;34m\u001b[0m\u001b[0;34m\u001b[0m\u001b[0m\n\u001b[1;32m    759\u001b[0m             \u001b[0mdata\u001b[0m \u001b[0;34m=\u001b[0m \u001b[0m_utils\u001b[0m\u001b[0;34m.\u001b[0m\u001b[0mpin_memory\u001b[0m\u001b[0;34m.\u001b[0m\u001b[0mpin_memory\u001b[0m\u001b[0;34m(\u001b[0m\u001b[0mdata\u001b[0m\u001b[0;34m,\u001b[0m \u001b[0mself\u001b[0m\u001b[0;34m.\u001b[0m\u001b[0m_pin_memory_device\u001b[0m\u001b[0;34m)\u001b[0m\u001b[0;34m\u001b[0m\u001b[0;34m\u001b[0m\u001b[0m\n",
            "\u001b[0;32m/usr/local/lib/python3.10/dist-packages/torch/utils/data/_utils/fetch.py\u001b[0m in \u001b[0;36mfetch\u001b[0;34m(self, possibly_batched_index)\u001b[0m\n\u001b[1;32m     50\u001b[0m                 \u001b[0mdata\u001b[0m \u001b[0;34m=\u001b[0m \u001b[0mself\u001b[0m\u001b[0;34m.\u001b[0m\u001b[0mdataset\u001b[0m\u001b[0;34m.\u001b[0m\u001b[0m__getitems__\u001b[0m\u001b[0;34m(\u001b[0m\u001b[0mpossibly_batched_index\u001b[0m\u001b[0;34m)\u001b[0m\u001b[0;34m\u001b[0m\u001b[0;34m\u001b[0m\u001b[0m\n\u001b[1;32m     51\u001b[0m             \u001b[0;32melse\u001b[0m\u001b[0;34m:\u001b[0m\u001b[0;34m\u001b[0m\u001b[0;34m\u001b[0m\u001b[0m\n\u001b[0;32m---> 52\u001b[0;31m                 \u001b[0mdata\u001b[0m \u001b[0;34m=\u001b[0m \u001b[0;34m[\u001b[0m\u001b[0mself\u001b[0m\u001b[0;34m.\u001b[0m\u001b[0mdataset\u001b[0m\u001b[0;34m[\u001b[0m\u001b[0midx\u001b[0m\u001b[0;34m]\u001b[0m \u001b[0;32mfor\u001b[0m \u001b[0midx\u001b[0m \u001b[0;32min\u001b[0m \u001b[0mpossibly_batched_index\u001b[0m\u001b[0;34m]\u001b[0m\u001b[0;34m\u001b[0m\u001b[0;34m\u001b[0m\u001b[0m\n\u001b[0m\u001b[1;32m     53\u001b[0m         \u001b[0;32melse\u001b[0m\u001b[0;34m:\u001b[0m\u001b[0;34m\u001b[0m\u001b[0;34m\u001b[0m\u001b[0m\n\u001b[1;32m     54\u001b[0m             \u001b[0mdata\u001b[0m \u001b[0;34m=\u001b[0m \u001b[0mself\u001b[0m\u001b[0;34m.\u001b[0m\u001b[0mdataset\u001b[0m\u001b[0;34m[\u001b[0m\u001b[0mpossibly_batched_index\u001b[0m\u001b[0;34m]\u001b[0m\u001b[0;34m\u001b[0m\u001b[0;34m\u001b[0m\u001b[0m\n",
            "\u001b[0;32m/usr/local/lib/python3.10/dist-packages/torch/utils/data/_utils/fetch.py\u001b[0m in \u001b[0;36m<listcomp>\u001b[0;34m(.0)\u001b[0m\n\u001b[1;32m     50\u001b[0m                 \u001b[0mdata\u001b[0m \u001b[0;34m=\u001b[0m \u001b[0mself\u001b[0m\u001b[0;34m.\u001b[0m\u001b[0mdataset\u001b[0m\u001b[0;34m.\u001b[0m\u001b[0m__getitems__\u001b[0m\u001b[0;34m(\u001b[0m\u001b[0mpossibly_batched_index\u001b[0m\u001b[0;34m)\u001b[0m\u001b[0;34m\u001b[0m\u001b[0;34m\u001b[0m\u001b[0m\n\u001b[1;32m     51\u001b[0m             \u001b[0;32melse\u001b[0m\u001b[0;34m:\u001b[0m\u001b[0;34m\u001b[0m\u001b[0;34m\u001b[0m\u001b[0m\n\u001b[0;32m---> 52\u001b[0;31m                 \u001b[0mdata\u001b[0m \u001b[0;34m=\u001b[0m \u001b[0;34m[\u001b[0m\u001b[0mself\u001b[0m\u001b[0;34m.\u001b[0m\u001b[0mdataset\u001b[0m\u001b[0;34m[\u001b[0m\u001b[0midx\u001b[0m\u001b[0;34m]\u001b[0m \u001b[0;32mfor\u001b[0m \u001b[0midx\u001b[0m \u001b[0;32min\u001b[0m \u001b[0mpossibly_batched_index\u001b[0m\u001b[0;34m]\u001b[0m\u001b[0;34m\u001b[0m\u001b[0;34m\u001b[0m\u001b[0m\n\u001b[0m\u001b[1;32m     53\u001b[0m         \u001b[0;32melse\u001b[0m\u001b[0;34m:\u001b[0m\u001b[0;34m\u001b[0m\u001b[0;34m\u001b[0m\u001b[0m\n\u001b[1;32m     54\u001b[0m             \u001b[0mdata\u001b[0m \u001b[0;34m=\u001b[0m \u001b[0mself\u001b[0m\u001b[0;34m.\u001b[0m\u001b[0mdataset\u001b[0m\u001b[0;34m[\u001b[0m\u001b[0mpossibly_batched_index\u001b[0m\u001b[0;34m]\u001b[0m\u001b[0;34m\u001b[0m\u001b[0;34m\u001b[0m\u001b[0m\n",
            "\u001b[0;32m<ipython-input-57-e5735f5aee2a>\u001b[0m in \u001b[0;36m__getitem__\u001b[0;34m(self, idx)\u001b[0m\n\u001b[1;32m     16\u001b[0m   \u001b[0;32mdef\u001b[0m \u001b[0m__getitem__\u001b[0m\u001b[0;34m(\u001b[0m\u001b[0mself\u001b[0m\u001b[0;34m,\u001b[0m \u001b[0midx\u001b[0m\u001b[0;34m)\u001b[0m\u001b[0;34m:\u001b[0m\u001b[0;34m\u001b[0m\u001b[0;34m\u001b[0m\u001b[0m\n\u001b[1;32m     17\u001b[0m     \u001b[0mlabel\u001b[0m \u001b[0;34m=\u001b[0m \u001b[0mself\u001b[0m\u001b[0;34m.\u001b[0m\u001b[0mlabel_tensor\u001b[0m\u001b[0;34m[\u001b[0m\u001b[0midx\u001b[0m\u001b[0;34m]\u001b[0m\u001b[0;34m\u001b[0m\u001b[0;34m\u001b[0m\u001b[0m\n\u001b[0;32m---> 18\u001b[0;31m     \u001b[0maudio\u001b[0m \u001b[0;34m=\u001b[0m \u001b[0mself\u001b[0m\u001b[0;34m.\u001b[0m\u001b[0mloaded_audio\u001b[0m\u001b[0;34m[\u001b[0m\u001b[0midx\u001b[0m\u001b[0;34m]\u001b[0m\u001b[0;34m.\u001b[0m\u001b[0mto\u001b[0m\u001b[0;34m(\u001b[0m\u001b[0mtorch\u001b[0m\u001b[0;34m.\u001b[0m\u001b[0mfloat32\u001b[0m\u001b[0;34m)\u001b[0m\u001b[0;34m\u001b[0m\u001b[0;34m\u001b[0m\u001b[0m\n\u001b[0m\u001b[1;32m     19\u001b[0m     \u001b[0;32mreturn\u001b[0m \u001b[0maudio\u001b[0m\u001b[0;34m.\u001b[0m\u001b[0mmean\u001b[0m\u001b[0;34m(\u001b[0m\u001b[0;36m0\u001b[0m\u001b[0;34m)\u001b[0m\u001b[0;34m,\u001b[0m \u001b[0mlabel\u001b[0m\u001b[0;34m\u001b[0m\u001b[0;34m\u001b[0m\u001b[0m\n\u001b[1;32m     20\u001b[0m \u001b[0;34m\u001b[0m\u001b[0m\n",
            "\u001b[0;31mKeyboardInterrupt\u001b[0m: "
          ]
        }
      ]
    },
    {
      "cell_type": "code",
      "source": [
        "prob[0]"
      ],
      "metadata": {
        "colab": {
          "base_uri": "https://localhost:8080/"
        },
        "id": "C8VyoTn1x7VG",
        "outputId": "3f5e7799-9dde-4143-dd7e-643c4052ed16"
      },
      "id": "C8VyoTn1x7VG",
      "execution_count": null,
      "outputs": [
        {
          "output_type": "execute_result",
          "data": {
            "text/plain": [
              "tensor([0.0757, 0.0451, 0.0418, 0.0190, 0.0128, 0.0116, 0.2372, 0.0798, 0.0161,\n",
              "        0.2150, 0.0411, 0.0281, 0.0080, 0.0760, 0.0232, 0.0634, 0.1056, 0.0115,\n",
              "        0.0280, 0.1184, 0.0582, 0.0784, 0.0207, 0.0973, 0.0902, 0.0044, 0.0233,\n",
              "        0.0275, 0.0119, 0.0057, 0.0256, 0.0315, 0.0255, 0.0821, 0.0090, 0.0186,\n",
              "        0.1782, 0.0654, 0.1078, 0.1058, 0.0731, 0.0669, 0.0229, 0.0360, 0.1110,\n",
              "        0.0458, 0.0737, 0.0435, 0.0520, 0.0151], device='cuda:0',\n",
              "       grad_fn=<SelectBackward0>)"
            ]
          },
          "metadata": {},
          "execution_count": 98
        }
      ]
    },
    {
      "cell_type": "markdown",
      "id": "9c2174c7",
      "metadata": {
        "id": "9c2174c7"
      },
      "source": []
    }
  ],
  "metadata": {
    "accelerator": "GPU",
    "colab": {
      "provenance": [],
      "include_colab_link": true
    },
    "gpuClass": "standard",
    "kernelspec": {
      "display_name": "Python 3 (ipykernel)",
      "language": "python",
      "name": "python3"
    },
    "language_info": {
      "codemirror_mode": {
        "name": "ipython",
        "version": 3
      },
      "file_extension": ".py",
      "mimetype": "text/x-python",
      "name": "python",
      "nbconvert_exporter": "python",
      "pygments_lexer": "ipython3",
      "version": "3.8.10"
    },
    "widgets": {
      "application/vnd.jupyter.widget-state+json": {
        "7fc8cc2133c345bdbb79bc83b579d8ad": {
          "model_module": "@jupyter-widgets/controls",
          "model_name": "HBoxModel",
          "model_module_version": "1.5.0",
          "state": {
            "_dom_classes": [],
            "_model_module": "@jupyter-widgets/controls",
            "_model_module_version": "1.5.0",
            "_model_name": "HBoxModel",
            "_view_count": null,
            "_view_module": "@jupyter-widgets/controls",
            "_view_module_version": "1.5.0",
            "_view_name": "HBoxView",
            "box_style": "",
            "children": [
              "IPY_MODEL_7e3fc66af7ed40d983bc677bc651fdf7",
              "IPY_MODEL_95d72e8db25e40a09d9cfbb3fea372f4",
              "IPY_MODEL_02e6e217d63541f8ac40a3297df8b833"
            ],
            "layout": "IPY_MODEL_170053e7265a446eaaa9eba108aec02c"
          }
        },
        "7e3fc66af7ed40d983bc677bc651fdf7": {
          "model_module": "@jupyter-widgets/controls",
          "model_name": "HTMLModel",
          "model_module_version": "1.5.0",
          "state": {
            "_dom_classes": [],
            "_model_module": "@jupyter-widgets/controls",
            "_model_module_version": "1.5.0",
            "_model_name": "HTMLModel",
            "_view_count": null,
            "_view_module": "@jupyter-widgets/controls",
            "_view_module_version": "1.5.0",
            "_view_name": "HTMLView",
            "description": "",
            "description_tooltip": null,
            "layout": "IPY_MODEL_e4588af5be2b4e7f9db415b1a2f543cc",
            "placeholder": "​",
            "style": "IPY_MODEL_296cca7db7b9485996b15e4c7fc865b4",
            "value": "100%"
          }
        },
        "95d72e8db25e40a09d9cfbb3fea372f4": {
          "model_module": "@jupyter-widgets/controls",
          "model_name": "FloatProgressModel",
          "model_module_version": "1.5.0",
          "state": {
            "_dom_classes": [],
            "_model_module": "@jupyter-widgets/controls",
            "_model_module_version": "1.5.0",
            "_model_name": "FloatProgressModel",
            "_view_count": null,
            "_view_module": "@jupyter-widgets/controls",
            "_view_module_version": "1.5.0",
            "_view_name": "ProgressView",
            "bar_style": "success",
            "description": "",
            "description_tooltip": null,
            "layout": "IPY_MODEL_f0c11b17c23948158fead60753ff897f",
            "max": 100,
            "min": 0,
            "orientation": "horizontal",
            "style": "IPY_MODEL_af5d40c21f5d4efba4898560e70b53e3",
            "value": 100
          }
        },
        "02e6e217d63541f8ac40a3297df8b833": {
          "model_module": "@jupyter-widgets/controls",
          "model_name": "HTMLModel",
          "model_module_version": "1.5.0",
          "state": {
            "_dom_classes": [],
            "_model_module": "@jupyter-widgets/controls",
            "_model_module_version": "1.5.0",
            "_model_name": "HTMLModel",
            "_view_count": null,
            "_view_module": "@jupyter-widgets/controls",
            "_view_module_version": "1.5.0",
            "_view_name": "HTMLView",
            "description": "",
            "description_tooltip": null,
            "layout": "IPY_MODEL_1a8c245573834b53a77bec89c9080b7f",
            "placeholder": "​",
            "style": "IPY_MODEL_e762b1f5baaf4b6e88936c5a224719a0",
            "value": " 100/100 [00:01&lt;00:00, 61.79it/s]"
          }
        },
        "170053e7265a446eaaa9eba108aec02c": {
          "model_module": "@jupyter-widgets/base",
          "model_name": "LayoutModel",
          "model_module_version": "1.2.0",
          "state": {
            "_model_module": "@jupyter-widgets/base",
            "_model_module_version": "1.2.0",
            "_model_name": "LayoutModel",
            "_view_count": null,
            "_view_module": "@jupyter-widgets/base",
            "_view_module_version": "1.2.0",
            "_view_name": "LayoutView",
            "align_content": null,
            "align_items": null,
            "align_self": null,
            "border": null,
            "bottom": null,
            "display": null,
            "flex": null,
            "flex_flow": null,
            "grid_area": null,
            "grid_auto_columns": null,
            "grid_auto_flow": null,
            "grid_auto_rows": null,
            "grid_column": null,
            "grid_gap": null,
            "grid_row": null,
            "grid_template_areas": null,
            "grid_template_columns": null,
            "grid_template_rows": null,
            "height": null,
            "justify_content": null,
            "justify_items": null,
            "left": null,
            "margin": null,
            "max_height": null,
            "max_width": null,
            "min_height": null,
            "min_width": null,
            "object_fit": null,
            "object_position": null,
            "order": null,
            "overflow": null,
            "overflow_x": null,
            "overflow_y": null,
            "padding": null,
            "right": null,
            "top": null,
            "visibility": null,
            "width": null
          }
        },
        "e4588af5be2b4e7f9db415b1a2f543cc": {
          "model_module": "@jupyter-widgets/base",
          "model_name": "LayoutModel",
          "model_module_version": "1.2.0",
          "state": {
            "_model_module": "@jupyter-widgets/base",
            "_model_module_version": "1.2.0",
            "_model_name": "LayoutModel",
            "_view_count": null,
            "_view_module": "@jupyter-widgets/base",
            "_view_module_version": "1.2.0",
            "_view_name": "LayoutView",
            "align_content": null,
            "align_items": null,
            "align_self": null,
            "border": null,
            "bottom": null,
            "display": null,
            "flex": null,
            "flex_flow": null,
            "grid_area": null,
            "grid_auto_columns": null,
            "grid_auto_flow": null,
            "grid_auto_rows": null,
            "grid_column": null,
            "grid_gap": null,
            "grid_row": null,
            "grid_template_areas": null,
            "grid_template_columns": null,
            "grid_template_rows": null,
            "height": null,
            "justify_content": null,
            "justify_items": null,
            "left": null,
            "margin": null,
            "max_height": null,
            "max_width": null,
            "min_height": null,
            "min_width": null,
            "object_fit": null,
            "object_position": null,
            "order": null,
            "overflow": null,
            "overflow_x": null,
            "overflow_y": null,
            "padding": null,
            "right": null,
            "top": null,
            "visibility": null,
            "width": null
          }
        },
        "296cca7db7b9485996b15e4c7fc865b4": {
          "model_module": "@jupyter-widgets/controls",
          "model_name": "DescriptionStyleModel",
          "model_module_version": "1.5.0",
          "state": {
            "_model_module": "@jupyter-widgets/controls",
            "_model_module_version": "1.5.0",
            "_model_name": "DescriptionStyleModel",
            "_view_count": null,
            "_view_module": "@jupyter-widgets/base",
            "_view_module_version": "1.2.0",
            "_view_name": "StyleView",
            "description_width": ""
          }
        },
        "f0c11b17c23948158fead60753ff897f": {
          "model_module": "@jupyter-widgets/base",
          "model_name": "LayoutModel",
          "model_module_version": "1.2.0",
          "state": {
            "_model_module": "@jupyter-widgets/base",
            "_model_module_version": "1.2.0",
            "_model_name": "LayoutModel",
            "_view_count": null,
            "_view_module": "@jupyter-widgets/base",
            "_view_module_version": "1.2.0",
            "_view_name": "LayoutView",
            "align_content": null,
            "align_items": null,
            "align_self": null,
            "border": null,
            "bottom": null,
            "display": null,
            "flex": null,
            "flex_flow": null,
            "grid_area": null,
            "grid_auto_columns": null,
            "grid_auto_flow": null,
            "grid_auto_rows": null,
            "grid_column": null,
            "grid_gap": null,
            "grid_row": null,
            "grid_template_areas": null,
            "grid_template_columns": null,
            "grid_template_rows": null,
            "height": null,
            "justify_content": null,
            "justify_items": null,
            "left": null,
            "margin": null,
            "max_height": null,
            "max_width": null,
            "min_height": null,
            "min_width": null,
            "object_fit": null,
            "object_position": null,
            "order": null,
            "overflow": null,
            "overflow_x": null,
            "overflow_y": null,
            "padding": null,
            "right": null,
            "top": null,
            "visibility": null,
            "width": null
          }
        },
        "af5d40c21f5d4efba4898560e70b53e3": {
          "model_module": "@jupyter-widgets/controls",
          "model_name": "ProgressStyleModel",
          "model_module_version": "1.5.0",
          "state": {
            "_model_module": "@jupyter-widgets/controls",
            "_model_module_version": "1.5.0",
            "_model_name": "ProgressStyleModel",
            "_view_count": null,
            "_view_module": "@jupyter-widgets/base",
            "_view_module_version": "1.2.0",
            "_view_name": "StyleView",
            "bar_color": null,
            "description_width": ""
          }
        },
        "1a8c245573834b53a77bec89c9080b7f": {
          "model_module": "@jupyter-widgets/base",
          "model_name": "LayoutModel",
          "model_module_version": "1.2.0",
          "state": {
            "_model_module": "@jupyter-widgets/base",
            "_model_module_version": "1.2.0",
            "_model_name": "LayoutModel",
            "_view_count": null,
            "_view_module": "@jupyter-widgets/base",
            "_view_module_version": "1.2.0",
            "_view_name": "LayoutView",
            "align_content": null,
            "align_items": null,
            "align_self": null,
            "border": null,
            "bottom": null,
            "display": null,
            "flex": null,
            "flex_flow": null,
            "grid_area": null,
            "grid_auto_columns": null,
            "grid_auto_flow": null,
            "grid_auto_rows": null,
            "grid_column": null,
            "grid_gap": null,
            "grid_row": null,
            "grid_template_areas": null,
            "grid_template_columns": null,
            "grid_template_rows": null,
            "height": null,
            "justify_content": null,
            "justify_items": null,
            "left": null,
            "margin": null,
            "max_height": null,
            "max_width": null,
            "min_height": null,
            "min_width": null,
            "object_fit": null,
            "object_position": null,
            "order": null,
            "overflow": null,
            "overflow_x": null,
            "overflow_y": null,
            "padding": null,
            "right": null,
            "top": null,
            "visibility": null,
            "width": null
          }
        },
        "e762b1f5baaf4b6e88936c5a224719a0": {
          "model_module": "@jupyter-widgets/controls",
          "model_name": "DescriptionStyleModel",
          "model_module_version": "1.5.0",
          "state": {
            "_model_module": "@jupyter-widgets/controls",
            "_model_module_version": "1.5.0",
            "_model_name": "DescriptionStyleModel",
            "_view_count": null,
            "_view_module": "@jupyter-widgets/base",
            "_view_module_version": "1.2.0",
            "_view_name": "StyleView",
            "description_width": ""
          }
        },
        "66db88194b4846b78a53484d1adac785": {
          "model_module": "@jupyter-widgets/controls",
          "model_name": "HBoxModel",
          "model_module_version": "1.5.0",
          "state": {
            "_dom_classes": [],
            "_model_module": "@jupyter-widgets/controls",
            "_model_module_version": "1.5.0",
            "_model_name": "HBoxModel",
            "_view_count": null,
            "_view_module": "@jupyter-widgets/controls",
            "_view_module_version": "1.5.0",
            "_view_name": "HBoxView",
            "box_style": "",
            "children": [
              "IPY_MODEL_21c50afb922f4b5b87c767cbe3ca7b30",
              "IPY_MODEL_76d03a96b49f4719a5a3b76e400dd2c2",
              "IPY_MODEL_95cdb6225f0149b4ba39dfde278df34a"
            ],
            "layout": "IPY_MODEL_abaa50d6c90542c09654ff3a09be7a9c"
          }
        },
        "21c50afb922f4b5b87c767cbe3ca7b30": {
          "model_module": "@jupyter-widgets/controls",
          "model_name": "HTMLModel",
          "model_module_version": "1.5.0",
          "state": {
            "_dom_classes": [],
            "_model_module": "@jupyter-widgets/controls",
            "_model_module_version": "1.5.0",
            "_model_name": "HTMLModel",
            "_view_count": null,
            "_view_module": "@jupyter-widgets/controls",
            "_view_module_version": "1.5.0",
            "_view_name": "HTMLView",
            "description": "",
            "description_tooltip": null,
            "layout": "IPY_MODEL_2a241a22c2f0413f84ba327f2a00595d",
            "placeholder": "​",
            "style": "IPY_MODEL_fa368614e5be431a864449d1e3092280",
            "value": "100%"
          }
        },
        "76d03a96b49f4719a5a3b76e400dd2c2": {
          "model_module": "@jupyter-widgets/controls",
          "model_name": "FloatProgressModel",
          "model_module_version": "1.5.0",
          "state": {
            "_dom_classes": [],
            "_model_module": "@jupyter-widgets/controls",
            "_model_module_version": "1.5.0",
            "_model_name": "FloatProgressModel",
            "_view_count": null,
            "_view_module": "@jupyter-widgets/controls",
            "_view_module_version": "1.5.0",
            "_view_name": "ProgressView",
            "bar_style": "success",
            "description": "",
            "description_tooltip": null,
            "layout": "IPY_MODEL_db76e76fe92c4fffbf39ca02ca4a09a7",
            "max": 5000,
            "min": 0,
            "orientation": "horizontal",
            "style": "IPY_MODEL_36adf50937d941e28373c3b7a7676bfc",
            "value": 5000
          }
        },
        "95cdb6225f0149b4ba39dfde278df34a": {
          "model_module": "@jupyter-widgets/controls",
          "model_name": "HTMLModel",
          "model_module_version": "1.5.0",
          "state": {
            "_dom_classes": [],
            "_model_module": "@jupyter-widgets/controls",
            "_model_module_version": "1.5.0",
            "_model_name": "HTMLModel",
            "_view_count": null,
            "_view_module": "@jupyter-widgets/controls",
            "_view_module_version": "1.5.0",
            "_view_name": "HTMLView",
            "description": "",
            "description_tooltip": null,
            "layout": "IPY_MODEL_ad39954100364025b0f9cb016dc9779e",
            "placeholder": "​",
            "style": "IPY_MODEL_f8d3fe6d30b544ce91675392751c3833",
            "value": " 5000/5000 [01:38&lt;00:00, 56.82it/s]"
          }
        },
        "abaa50d6c90542c09654ff3a09be7a9c": {
          "model_module": "@jupyter-widgets/base",
          "model_name": "LayoutModel",
          "model_module_version": "1.2.0",
          "state": {
            "_model_module": "@jupyter-widgets/base",
            "_model_module_version": "1.2.0",
            "_model_name": "LayoutModel",
            "_view_count": null,
            "_view_module": "@jupyter-widgets/base",
            "_view_module_version": "1.2.0",
            "_view_name": "LayoutView",
            "align_content": null,
            "align_items": null,
            "align_self": null,
            "border": null,
            "bottom": null,
            "display": null,
            "flex": null,
            "flex_flow": null,
            "grid_area": null,
            "grid_auto_columns": null,
            "grid_auto_flow": null,
            "grid_auto_rows": null,
            "grid_column": null,
            "grid_gap": null,
            "grid_row": null,
            "grid_template_areas": null,
            "grid_template_columns": null,
            "grid_template_rows": null,
            "height": null,
            "justify_content": null,
            "justify_items": null,
            "left": null,
            "margin": null,
            "max_height": null,
            "max_width": null,
            "min_height": null,
            "min_width": null,
            "object_fit": null,
            "object_position": null,
            "order": null,
            "overflow": null,
            "overflow_x": null,
            "overflow_y": null,
            "padding": null,
            "right": null,
            "top": null,
            "visibility": null,
            "width": null
          }
        },
        "2a241a22c2f0413f84ba327f2a00595d": {
          "model_module": "@jupyter-widgets/base",
          "model_name": "LayoutModel",
          "model_module_version": "1.2.0",
          "state": {
            "_model_module": "@jupyter-widgets/base",
            "_model_module_version": "1.2.0",
            "_model_name": "LayoutModel",
            "_view_count": null,
            "_view_module": "@jupyter-widgets/base",
            "_view_module_version": "1.2.0",
            "_view_name": "LayoutView",
            "align_content": null,
            "align_items": null,
            "align_self": null,
            "border": null,
            "bottom": null,
            "display": null,
            "flex": null,
            "flex_flow": null,
            "grid_area": null,
            "grid_auto_columns": null,
            "grid_auto_flow": null,
            "grid_auto_rows": null,
            "grid_column": null,
            "grid_gap": null,
            "grid_row": null,
            "grid_template_areas": null,
            "grid_template_columns": null,
            "grid_template_rows": null,
            "height": null,
            "justify_content": null,
            "justify_items": null,
            "left": null,
            "margin": null,
            "max_height": null,
            "max_width": null,
            "min_height": null,
            "min_width": null,
            "object_fit": null,
            "object_position": null,
            "order": null,
            "overflow": null,
            "overflow_x": null,
            "overflow_y": null,
            "padding": null,
            "right": null,
            "top": null,
            "visibility": null,
            "width": null
          }
        },
        "fa368614e5be431a864449d1e3092280": {
          "model_module": "@jupyter-widgets/controls",
          "model_name": "DescriptionStyleModel",
          "model_module_version": "1.5.0",
          "state": {
            "_model_module": "@jupyter-widgets/controls",
            "_model_module_version": "1.5.0",
            "_model_name": "DescriptionStyleModel",
            "_view_count": null,
            "_view_module": "@jupyter-widgets/base",
            "_view_module_version": "1.2.0",
            "_view_name": "StyleView",
            "description_width": ""
          }
        },
        "db76e76fe92c4fffbf39ca02ca4a09a7": {
          "model_module": "@jupyter-widgets/base",
          "model_name": "LayoutModel",
          "model_module_version": "1.2.0",
          "state": {
            "_model_module": "@jupyter-widgets/base",
            "_model_module_version": "1.2.0",
            "_model_name": "LayoutModel",
            "_view_count": null,
            "_view_module": "@jupyter-widgets/base",
            "_view_module_version": "1.2.0",
            "_view_name": "LayoutView",
            "align_content": null,
            "align_items": null,
            "align_self": null,
            "border": null,
            "bottom": null,
            "display": null,
            "flex": null,
            "flex_flow": null,
            "grid_area": null,
            "grid_auto_columns": null,
            "grid_auto_flow": null,
            "grid_auto_rows": null,
            "grid_column": null,
            "grid_gap": null,
            "grid_row": null,
            "grid_template_areas": null,
            "grid_template_columns": null,
            "grid_template_rows": null,
            "height": null,
            "justify_content": null,
            "justify_items": null,
            "left": null,
            "margin": null,
            "max_height": null,
            "max_width": null,
            "min_height": null,
            "min_width": null,
            "object_fit": null,
            "object_position": null,
            "order": null,
            "overflow": null,
            "overflow_x": null,
            "overflow_y": null,
            "padding": null,
            "right": null,
            "top": null,
            "visibility": null,
            "width": null
          }
        },
        "36adf50937d941e28373c3b7a7676bfc": {
          "model_module": "@jupyter-widgets/controls",
          "model_name": "ProgressStyleModel",
          "model_module_version": "1.5.0",
          "state": {
            "_model_module": "@jupyter-widgets/controls",
            "_model_module_version": "1.5.0",
            "_model_name": "ProgressStyleModel",
            "_view_count": null,
            "_view_module": "@jupyter-widgets/base",
            "_view_module_version": "1.2.0",
            "_view_name": "StyleView",
            "bar_color": null,
            "description_width": ""
          }
        },
        "ad39954100364025b0f9cb016dc9779e": {
          "model_module": "@jupyter-widgets/base",
          "model_name": "LayoutModel",
          "model_module_version": "1.2.0",
          "state": {
            "_model_module": "@jupyter-widgets/base",
            "_model_module_version": "1.2.0",
            "_model_name": "LayoutModel",
            "_view_count": null,
            "_view_module": "@jupyter-widgets/base",
            "_view_module_version": "1.2.0",
            "_view_name": "LayoutView",
            "align_content": null,
            "align_items": null,
            "align_self": null,
            "border": null,
            "bottom": null,
            "display": null,
            "flex": null,
            "flex_flow": null,
            "grid_area": null,
            "grid_auto_columns": null,
            "grid_auto_flow": null,
            "grid_auto_rows": null,
            "grid_column": null,
            "grid_gap": null,
            "grid_row": null,
            "grid_template_areas": null,
            "grid_template_columns": null,
            "grid_template_rows": null,
            "height": null,
            "justify_content": null,
            "justify_items": null,
            "left": null,
            "margin": null,
            "max_height": null,
            "max_width": null,
            "min_height": null,
            "min_width": null,
            "object_fit": null,
            "object_position": null,
            "order": null,
            "overflow": null,
            "overflow_x": null,
            "overflow_y": null,
            "padding": null,
            "right": null,
            "top": null,
            "visibility": null,
            "width": null
          }
        },
        "f8d3fe6d30b544ce91675392751c3833": {
          "model_module": "@jupyter-widgets/controls",
          "model_name": "DescriptionStyleModel",
          "model_module_version": "1.5.0",
          "state": {
            "_model_module": "@jupyter-widgets/controls",
            "_model_module_version": "1.5.0",
            "_model_name": "DescriptionStyleModel",
            "_view_count": null,
            "_view_module": "@jupyter-widgets/base",
            "_view_module_version": "1.2.0",
            "_view_name": "StyleView",
            "description_width": ""
          }
        },
        "472cb2e0df9442569a939577043facf1": {
          "model_module": "@jupyter-widgets/controls",
          "model_name": "HBoxModel",
          "model_module_version": "1.5.0",
          "state": {
            "_dom_classes": [],
            "_model_module": "@jupyter-widgets/controls",
            "_model_module_version": "1.5.0",
            "_model_name": "HBoxModel",
            "_view_count": null,
            "_view_module": "@jupyter-widgets/controls",
            "_view_module_version": "1.5.0",
            "_view_name": "HBoxView",
            "box_style": "",
            "children": [
              "IPY_MODEL_ded4a088e5d04dde95974fe9d036bbf5",
              "IPY_MODEL_2db63346236a45bdb5c21c9b59773e3f",
              "IPY_MODEL_e8e9b99f9f4a4961bd808f3416902da5"
            ],
            "layout": "IPY_MODEL_128e0aba544349ff914262b812412635"
          }
        },
        "ded4a088e5d04dde95974fe9d036bbf5": {
          "model_module": "@jupyter-widgets/controls",
          "model_name": "HTMLModel",
          "model_module_version": "1.5.0",
          "state": {
            "_dom_classes": [],
            "_model_module": "@jupyter-widgets/controls",
            "_model_module_version": "1.5.0",
            "_model_name": "HTMLModel",
            "_view_count": null,
            "_view_module": "@jupyter-widgets/controls",
            "_view_module_version": "1.5.0",
            "_view_name": "HTMLView",
            "description": "",
            "description_tooltip": null,
            "layout": "IPY_MODEL_2e19acad141c4994b8666b8fd55b0747",
            "placeholder": "​",
            "style": "IPY_MODEL_57add0b42d974fae956512ecbce746dc",
            "value": "100%"
          }
        },
        "2db63346236a45bdb5c21c9b59773e3f": {
          "model_module": "@jupyter-widgets/controls",
          "model_name": "FloatProgressModel",
          "model_module_version": "1.5.0",
          "state": {
            "_dom_classes": [],
            "_model_module": "@jupyter-widgets/controls",
            "_model_module_version": "1.5.0",
            "_model_name": "FloatProgressModel",
            "_view_count": null,
            "_view_module": "@jupyter-widgets/controls",
            "_view_module_version": "1.5.0",
            "_view_name": "ProgressView",
            "bar_style": "success",
            "description": "",
            "description_tooltip": null,
            "layout": "IPY_MODEL_aae942777ce547bdbf5e400447fd365f",
            "max": 100,
            "min": 0,
            "orientation": "horizontal",
            "style": "IPY_MODEL_b1cb4701632e42899eb381fd737758da",
            "value": 100
          }
        },
        "e8e9b99f9f4a4961bd808f3416902da5": {
          "model_module": "@jupyter-widgets/controls",
          "model_name": "HTMLModel",
          "model_module_version": "1.5.0",
          "state": {
            "_dom_classes": [],
            "_model_module": "@jupyter-widgets/controls",
            "_model_module_version": "1.5.0",
            "_model_name": "HTMLModel",
            "_view_count": null,
            "_view_module": "@jupyter-widgets/controls",
            "_view_module_version": "1.5.0",
            "_view_name": "HTMLView",
            "description": "",
            "description_tooltip": null,
            "layout": "IPY_MODEL_1dd07b47defe479d933537dafb1d1c96",
            "placeholder": "​",
            "style": "IPY_MODEL_94682d3c6d6547b28b7fdea52228fa88",
            "value": " 100/100 [00:00&lt;00:00, 877.09it/s]"
          }
        },
        "128e0aba544349ff914262b812412635": {
          "model_module": "@jupyter-widgets/base",
          "model_name": "LayoutModel",
          "model_module_version": "1.2.0",
          "state": {
            "_model_module": "@jupyter-widgets/base",
            "_model_module_version": "1.2.0",
            "_model_name": "LayoutModel",
            "_view_count": null,
            "_view_module": "@jupyter-widgets/base",
            "_view_module_version": "1.2.0",
            "_view_name": "LayoutView",
            "align_content": null,
            "align_items": null,
            "align_self": null,
            "border": null,
            "bottom": null,
            "display": null,
            "flex": null,
            "flex_flow": null,
            "grid_area": null,
            "grid_auto_columns": null,
            "grid_auto_flow": null,
            "grid_auto_rows": null,
            "grid_column": null,
            "grid_gap": null,
            "grid_row": null,
            "grid_template_areas": null,
            "grid_template_columns": null,
            "grid_template_rows": null,
            "height": null,
            "justify_content": null,
            "justify_items": null,
            "left": null,
            "margin": null,
            "max_height": null,
            "max_width": null,
            "min_height": null,
            "min_width": null,
            "object_fit": null,
            "object_position": null,
            "order": null,
            "overflow": null,
            "overflow_x": null,
            "overflow_y": null,
            "padding": null,
            "right": null,
            "top": null,
            "visibility": null,
            "width": null
          }
        },
        "2e19acad141c4994b8666b8fd55b0747": {
          "model_module": "@jupyter-widgets/base",
          "model_name": "LayoutModel",
          "model_module_version": "1.2.0",
          "state": {
            "_model_module": "@jupyter-widgets/base",
            "_model_module_version": "1.2.0",
            "_model_name": "LayoutModel",
            "_view_count": null,
            "_view_module": "@jupyter-widgets/base",
            "_view_module_version": "1.2.0",
            "_view_name": "LayoutView",
            "align_content": null,
            "align_items": null,
            "align_self": null,
            "border": null,
            "bottom": null,
            "display": null,
            "flex": null,
            "flex_flow": null,
            "grid_area": null,
            "grid_auto_columns": null,
            "grid_auto_flow": null,
            "grid_auto_rows": null,
            "grid_column": null,
            "grid_gap": null,
            "grid_row": null,
            "grid_template_areas": null,
            "grid_template_columns": null,
            "grid_template_rows": null,
            "height": null,
            "justify_content": null,
            "justify_items": null,
            "left": null,
            "margin": null,
            "max_height": null,
            "max_width": null,
            "min_height": null,
            "min_width": null,
            "object_fit": null,
            "object_position": null,
            "order": null,
            "overflow": null,
            "overflow_x": null,
            "overflow_y": null,
            "padding": null,
            "right": null,
            "top": null,
            "visibility": null,
            "width": null
          }
        },
        "57add0b42d974fae956512ecbce746dc": {
          "model_module": "@jupyter-widgets/controls",
          "model_name": "DescriptionStyleModel",
          "model_module_version": "1.5.0",
          "state": {
            "_model_module": "@jupyter-widgets/controls",
            "_model_module_version": "1.5.0",
            "_model_name": "DescriptionStyleModel",
            "_view_count": null,
            "_view_module": "@jupyter-widgets/base",
            "_view_module_version": "1.2.0",
            "_view_name": "StyleView",
            "description_width": ""
          }
        },
        "aae942777ce547bdbf5e400447fd365f": {
          "model_module": "@jupyter-widgets/base",
          "model_name": "LayoutModel",
          "model_module_version": "1.2.0",
          "state": {
            "_model_module": "@jupyter-widgets/base",
            "_model_module_version": "1.2.0",
            "_model_name": "LayoutModel",
            "_view_count": null,
            "_view_module": "@jupyter-widgets/base",
            "_view_module_version": "1.2.0",
            "_view_name": "LayoutView",
            "align_content": null,
            "align_items": null,
            "align_self": null,
            "border": null,
            "bottom": null,
            "display": null,
            "flex": null,
            "flex_flow": null,
            "grid_area": null,
            "grid_auto_columns": null,
            "grid_auto_flow": null,
            "grid_auto_rows": null,
            "grid_column": null,
            "grid_gap": null,
            "grid_row": null,
            "grid_template_areas": null,
            "grid_template_columns": null,
            "grid_template_rows": null,
            "height": null,
            "justify_content": null,
            "justify_items": null,
            "left": null,
            "margin": null,
            "max_height": null,
            "max_width": null,
            "min_height": null,
            "min_width": null,
            "object_fit": null,
            "object_position": null,
            "order": null,
            "overflow": null,
            "overflow_x": null,
            "overflow_y": null,
            "padding": null,
            "right": null,
            "top": null,
            "visibility": null,
            "width": null
          }
        },
        "b1cb4701632e42899eb381fd737758da": {
          "model_module": "@jupyter-widgets/controls",
          "model_name": "ProgressStyleModel",
          "model_module_version": "1.5.0",
          "state": {
            "_model_module": "@jupyter-widgets/controls",
            "_model_module_version": "1.5.0",
            "_model_name": "ProgressStyleModel",
            "_view_count": null,
            "_view_module": "@jupyter-widgets/base",
            "_view_module_version": "1.2.0",
            "_view_name": "StyleView",
            "bar_color": null,
            "description_width": ""
          }
        },
        "1dd07b47defe479d933537dafb1d1c96": {
          "model_module": "@jupyter-widgets/base",
          "model_name": "LayoutModel",
          "model_module_version": "1.2.0",
          "state": {
            "_model_module": "@jupyter-widgets/base",
            "_model_module_version": "1.2.0",
            "_model_name": "LayoutModel",
            "_view_count": null,
            "_view_module": "@jupyter-widgets/base",
            "_view_module_version": "1.2.0",
            "_view_name": "LayoutView",
            "align_content": null,
            "align_items": null,
            "align_self": null,
            "border": null,
            "bottom": null,
            "display": null,
            "flex": null,
            "flex_flow": null,
            "grid_area": null,
            "grid_auto_columns": null,
            "grid_auto_flow": null,
            "grid_auto_rows": null,
            "grid_column": null,
            "grid_gap": null,
            "grid_row": null,
            "grid_template_areas": null,
            "grid_template_columns": null,
            "grid_template_rows": null,
            "height": null,
            "justify_content": null,
            "justify_items": null,
            "left": null,
            "margin": null,
            "max_height": null,
            "max_width": null,
            "min_height": null,
            "min_width": null,
            "object_fit": null,
            "object_position": null,
            "order": null,
            "overflow": null,
            "overflow_x": null,
            "overflow_y": null,
            "padding": null,
            "right": null,
            "top": null,
            "visibility": null,
            "width": null
          }
        },
        "94682d3c6d6547b28b7fdea52228fa88": {
          "model_module": "@jupyter-widgets/controls",
          "model_name": "DescriptionStyleModel",
          "model_module_version": "1.5.0",
          "state": {
            "_model_module": "@jupyter-widgets/controls",
            "_model_module_version": "1.5.0",
            "_model_name": "DescriptionStyleModel",
            "_view_count": null,
            "_view_module": "@jupyter-widgets/base",
            "_view_module_version": "1.2.0",
            "_view_name": "StyleView",
            "description_width": ""
          }
        },
        "9f95a32508af4251aa7d787fab5e064c": {
          "model_module": "@jupyter-widgets/controls",
          "model_name": "HBoxModel",
          "model_module_version": "1.5.0",
          "state": {
            "_dom_classes": [],
            "_model_module": "@jupyter-widgets/controls",
            "_model_module_version": "1.5.0",
            "_model_name": "HBoxModel",
            "_view_count": null,
            "_view_module": "@jupyter-widgets/controls",
            "_view_module_version": "1.5.0",
            "_view_name": "HBoxView",
            "box_style": "",
            "children": [
              "IPY_MODEL_3328c657ec964969b124c8b8565d67f2",
              "IPY_MODEL_e31d60d39ecf40f8badf7c5833dcdd43",
              "IPY_MODEL_0dd7aa1b7d14485b80ca240dc18e2aa6"
            ],
            "layout": "IPY_MODEL_b3d4b937532f445780e242a36814c9d1"
          }
        },
        "3328c657ec964969b124c8b8565d67f2": {
          "model_module": "@jupyter-widgets/controls",
          "model_name": "HTMLModel",
          "model_module_version": "1.5.0",
          "state": {
            "_dom_classes": [],
            "_model_module": "@jupyter-widgets/controls",
            "_model_module_version": "1.5.0",
            "_model_name": "HTMLModel",
            "_view_count": null,
            "_view_module": "@jupyter-widgets/controls",
            "_view_module_version": "1.5.0",
            "_view_name": "HTMLView",
            "description": "",
            "description_tooltip": null,
            "layout": "IPY_MODEL_9ac72120065b46369888df794aa54278",
            "placeholder": "​",
            "style": "IPY_MODEL_e765af2688954d41970e0139c5ad4efa",
            "value": " 40%"
          }
        },
        "e31d60d39ecf40f8badf7c5833dcdd43": {
          "model_module": "@jupyter-widgets/controls",
          "model_name": "FloatProgressModel",
          "model_module_version": "1.5.0",
          "state": {
            "_dom_classes": [],
            "_model_module": "@jupyter-widgets/controls",
            "_model_module_version": "1.5.0",
            "_model_name": "FloatProgressModel",
            "_view_count": null,
            "_view_module": "@jupyter-widgets/controls",
            "_view_module_version": "1.5.0",
            "_view_name": "ProgressView",
            "bar_style": "danger",
            "description": "",
            "description_tooltip": null,
            "layout": "IPY_MODEL_c666426e96ef4071b9ecb941cb8b3bcd",
            "max": 5,
            "min": 0,
            "orientation": "horizontal",
            "style": "IPY_MODEL_912aa700e26844faacd30ffee9845030",
            "value": 2
          }
        },
        "0dd7aa1b7d14485b80ca240dc18e2aa6": {
          "model_module": "@jupyter-widgets/controls",
          "model_name": "HTMLModel",
          "model_module_version": "1.5.0",
          "state": {
            "_dom_classes": [],
            "_model_module": "@jupyter-widgets/controls",
            "_model_module_version": "1.5.0",
            "_model_name": "HTMLModel",
            "_view_count": null,
            "_view_module": "@jupyter-widgets/controls",
            "_view_module_version": "1.5.0",
            "_view_name": "HTMLView",
            "description": "",
            "description_tooltip": null,
            "layout": "IPY_MODEL_f2cc60b5939b4823972a003f9eade07e",
            "placeholder": "​",
            "style": "IPY_MODEL_91bae638035d41e180d92901c39729a8",
            "value": " 2/5 [00:40&lt;00:53, 17.67s/it]"
          }
        },
        "b3d4b937532f445780e242a36814c9d1": {
          "model_module": "@jupyter-widgets/base",
          "model_name": "LayoutModel",
          "model_module_version": "1.2.0",
          "state": {
            "_model_module": "@jupyter-widgets/base",
            "_model_module_version": "1.2.0",
            "_model_name": "LayoutModel",
            "_view_count": null,
            "_view_module": "@jupyter-widgets/base",
            "_view_module_version": "1.2.0",
            "_view_name": "LayoutView",
            "align_content": null,
            "align_items": null,
            "align_self": null,
            "border": null,
            "bottom": null,
            "display": null,
            "flex": null,
            "flex_flow": null,
            "grid_area": null,
            "grid_auto_columns": null,
            "grid_auto_flow": null,
            "grid_auto_rows": null,
            "grid_column": null,
            "grid_gap": null,
            "grid_row": null,
            "grid_template_areas": null,
            "grid_template_columns": null,
            "grid_template_rows": null,
            "height": null,
            "justify_content": null,
            "justify_items": null,
            "left": null,
            "margin": null,
            "max_height": null,
            "max_width": null,
            "min_height": null,
            "min_width": null,
            "object_fit": null,
            "object_position": null,
            "order": null,
            "overflow": null,
            "overflow_x": null,
            "overflow_y": null,
            "padding": null,
            "right": null,
            "top": null,
            "visibility": null,
            "width": null
          }
        },
        "9ac72120065b46369888df794aa54278": {
          "model_module": "@jupyter-widgets/base",
          "model_name": "LayoutModel",
          "model_module_version": "1.2.0",
          "state": {
            "_model_module": "@jupyter-widgets/base",
            "_model_module_version": "1.2.0",
            "_model_name": "LayoutModel",
            "_view_count": null,
            "_view_module": "@jupyter-widgets/base",
            "_view_module_version": "1.2.0",
            "_view_name": "LayoutView",
            "align_content": null,
            "align_items": null,
            "align_self": null,
            "border": null,
            "bottom": null,
            "display": null,
            "flex": null,
            "flex_flow": null,
            "grid_area": null,
            "grid_auto_columns": null,
            "grid_auto_flow": null,
            "grid_auto_rows": null,
            "grid_column": null,
            "grid_gap": null,
            "grid_row": null,
            "grid_template_areas": null,
            "grid_template_columns": null,
            "grid_template_rows": null,
            "height": null,
            "justify_content": null,
            "justify_items": null,
            "left": null,
            "margin": null,
            "max_height": null,
            "max_width": null,
            "min_height": null,
            "min_width": null,
            "object_fit": null,
            "object_position": null,
            "order": null,
            "overflow": null,
            "overflow_x": null,
            "overflow_y": null,
            "padding": null,
            "right": null,
            "top": null,
            "visibility": null,
            "width": null
          }
        },
        "e765af2688954d41970e0139c5ad4efa": {
          "model_module": "@jupyter-widgets/controls",
          "model_name": "DescriptionStyleModel",
          "model_module_version": "1.5.0",
          "state": {
            "_model_module": "@jupyter-widgets/controls",
            "_model_module_version": "1.5.0",
            "_model_name": "DescriptionStyleModel",
            "_view_count": null,
            "_view_module": "@jupyter-widgets/base",
            "_view_module_version": "1.2.0",
            "_view_name": "StyleView",
            "description_width": ""
          }
        },
        "c666426e96ef4071b9ecb941cb8b3bcd": {
          "model_module": "@jupyter-widgets/base",
          "model_name": "LayoutModel",
          "model_module_version": "1.2.0",
          "state": {
            "_model_module": "@jupyter-widgets/base",
            "_model_module_version": "1.2.0",
            "_model_name": "LayoutModel",
            "_view_count": null,
            "_view_module": "@jupyter-widgets/base",
            "_view_module_version": "1.2.0",
            "_view_name": "LayoutView",
            "align_content": null,
            "align_items": null,
            "align_self": null,
            "border": null,
            "bottom": null,
            "display": null,
            "flex": null,
            "flex_flow": null,
            "grid_area": null,
            "grid_auto_columns": null,
            "grid_auto_flow": null,
            "grid_auto_rows": null,
            "grid_column": null,
            "grid_gap": null,
            "grid_row": null,
            "grid_template_areas": null,
            "grid_template_columns": null,
            "grid_template_rows": null,
            "height": null,
            "justify_content": null,
            "justify_items": null,
            "left": null,
            "margin": null,
            "max_height": null,
            "max_width": null,
            "min_height": null,
            "min_width": null,
            "object_fit": null,
            "object_position": null,
            "order": null,
            "overflow": null,
            "overflow_x": null,
            "overflow_y": null,
            "padding": null,
            "right": null,
            "top": null,
            "visibility": null,
            "width": null
          }
        },
        "912aa700e26844faacd30ffee9845030": {
          "model_module": "@jupyter-widgets/controls",
          "model_name": "ProgressStyleModel",
          "model_module_version": "1.5.0",
          "state": {
            "_model_module": "@jupyter-widgets/controls",
            "_model_module_version": "1.5.0",
            "_model_name": "ProgressStyleModel",
            "_view_count": null,
            "_view_module": "@jupyter-widgets/base",
            "_view_module_version": "1.2.0",
            "_view_name": "StyleView",
            "bar_color": null,
            "description_width": ""
          }
        },
        "f2cc60b5939b4823972a003f9eade07e": {
          "model_module": "@jupyter-widgets/base",
          "model_name": "LayoutModel",
          "model_module_version": "1.2.0",
          "state": {
            "_model_module": "@jupyter-widgets/base",
            "_model_module_version": "1.2.0",
            "_model_name": "LayoutModel",
            "_view_count": null,
            "_view_module": "@jupyter-widgets/base",
            "_view_module_version": "1.2.0",
            "_view_name": "LayoutView",
            "align_content": null,
            "align_items": null,
            "align_self": null,
            "border": null,
            "bottom": null,
            "display": null,
            "flex": null,
            "flex_flow": null,
            "grid_area": null,
            "grid_auto_columns": null,
            "grid_auto_flow": null,
            "grid_auto_rows": null,
            "grid_column": null,
            "grid_gap": null,
            "grid_row": null,
            "grid_template_areas": null,
            "grid_template_columns": null,
            "grid_template_rows": null,
            "height": null,
            "justify_content": null,
            "justify_items": null,
            "left": null,
            "margin": null,
            "max_height": null,
            "max_width": null,
            "min_height": null,
            "min_width": null,
            "object_fit": null,
            "object_position": null,
            "order": null,
            "overflow": null,
            "overflow_x": null,
            "overflow_y": null,
            "padding": null,
            "right": null,
            "top": null,
            "visibility": null,
            "width": null
          }
        },
        "91bae638035d41e180d92901c39729a8": {
          "model_module": "@jupyter-widgets/controls",
          "model_name": "DescriptionStyleModel",
          "model_module_version": "1.5.0",
          "state": {
            "_model_module": "@jupyter-widgets/controls",
            "_model_module_version": "1.5.0",
            "_model_name": "DescriptionStyleModel",
            "_view_count": null,
            "_view_module": "@jupyter-widgets/base",
            "_view_module_version": "1.2.0",
            "_view_name": "StyleView",
            "description_width": ""
          }
        }
      }
    }
  },
  "nbformat": 4,
  "nbformat_minor": 5
}